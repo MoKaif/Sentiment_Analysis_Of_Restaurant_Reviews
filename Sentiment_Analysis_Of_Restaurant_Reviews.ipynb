{
  "nbformat": 4,
  "nbformat_minor": 0,
  "metadata": {
    "colab": {
      "provenance": [],
      "authorship_tag": "ABX9TyM4d70g4MW7HCLBzYR8/V+C",
      "include_colab_link": true
    },
    "kernelspec": {
      "name": "python3",
      "display_name": "Python 3"
    },
    "language_info": {
      "name": "python"
    }
  },
  "cells": [
    {
      "cell_type": "markdown",
      "metadata": {
        "id": "view-in-github",
        "colab_type": "text"
      },
      "source": [
        "<a href=\"https://colab.research.google.com/github/MoKaif/Sentiment_Analysis_Of_Restaurant_Reviews/blob/main/Sentiment_Analysis_Of_Restaurant_Reviews.ipynb\" target=\"_parent\"><img src=\"https://colab.research.google.com/assets/colab-badge.svg\" alt=\"Open In Colab\"/></a>"
      ]
    },
    {
      "cell_type": "markdown",
      "source": [
        "# Sentiment Analysis of Restaurant Reviews\n",
        "\n",
        "In this project, we perform sentiment analysis on a dataset of restaurant reviews. The goal is to classify each review as either positive or negative sentiment. We'll follow these steps:\n"
      ],
      "metadata": {
        "id": "rdFaVj6a2w1t"
      }
    },
    {
      "cell_type": "markdown",
      "source": [
        "## Importing Necessary Libraries\n",
        "\n",
        "We start by importing essential libraries required for data preprocessing, model building, and evaluation. These include pandas, numpy, NLTK (Natural Language Toolkit), scikit-learn, CatBoost, and TensorFlow."
      ],
      "metadata": {
        "id": "d77ar1iN20I_"
      }
    },
    {
      "cell_type": "code",
      "source": [
        "# Import necessary libraries\n",
        "import pandas as pd\n",
        "import numpy as np\n",
        "import nltk\n",
        "import re\n",
        "from nltk.corpus import stopwords\n",
        "from nltk.stem import PorterStemmer\n",
        "from sklearn.model_selection import train_test_split\n",
        "from sklearn.feature_extraction.text import TfidfVectorizer\n",
        "from sklearn.svm import SVC\n",
        "from catboost import CatBoostClassifier\n",
        "from tensorflow.keras.models import Sequential\n",
        "from tensorflow.keras.layers import Embedding, LSTM, Dense, Dropout\n",
        "from tensorflow.keras.preprocessing.text import Tokenizer\n",
        "from tensorflow.keras.preprocessing.sequence import pad_sequences\n",
        "from sklearn.metrics import accuracy_score, f1_score, confusion_matrix\n",
        "import matplotlib.pyplot as plt\n",
        "import seaborn as sns\n"
      ],
      "metadata": {
        "id": "pdxAsGZG4mwQ"
      },
      "execution_count": 57,
      "outputs": []
    },
    {
      "cell_type": "markdown",
      "source": [
        "## Loading the Dataset\n",
        "\n",
        "We load the restaurant reviews dataset from a TSV (Tab-Separated Values) file. The dataset contains two columns: 'Review' and 'Liked.' 'Review' contains the text of the reviews, and 'Liked' indicates whether the review is positive (1) or negative (0) sentiment."
      ],
      "metadata": {
        "id": "oH-IdcCa22we"
      }
    },
    {
      "cell_type": "code",
      "source": [
        "# Load your restaurant reviews dataset\n",
        "df = pd.read_csv('/content/Restaurant_Reviews.tsv', delimiter='\\t')"
      ],
      "metadata": {
        "id": "PxryxYrT4paJ"
      },
      "execution_count": 58,
      "outputs": []
    },
    {
      "cell_type": "markdown",
      "source": [
        "### 1. Text Preprocessing\n",
        "\n",
        "We perform various text preprocessing steps on the reviews:\n",
        "   - Remove special characters and numbers using regular expressions.\n",
        "   - Convert text to lowercase.\n",
        "   - Tokenize the text into words.\n",
        "   - Remove stopwords (common words like \"the,\" \"and,\" etc.).\n",
        "   - Apply stemming to reduce words to their root form using the Porter Stemmer algorithm.\n",
        "\n",
        "   \n",
        " ### 2. Create Separate Corpora\n",
        "\n",
        "We create separate corpora for positive and negative words based on the sentiment in the reviews. This is done to analyze word frequencies later."
      ],
      "metadata": {
        "id": "jJpSJche271G"
      }
    },
    {
      "cell_type": "code",
      "source": [
        "# Data Preprocessing\n",
        "nltk.download('stopwords')\n",
        "stemmer = PorterStemmer()\n",
        "stop_words = set(stopwords.words('english'))\n",
        "\n",
        "# Create separate corpora for positive and negative words\n",
        "positive_corpus = []\n",
        "negative_corpus = []\n",
        "\n",
        "def preprocess_text(text):\n",
        "    # Remove special characters and numbers using regular expressions\n",
        "    text = re.sub(r'[^a-zA-Z]', ' ', text)\n",
        "\n",
        "    # Convert to lowercase and tokenize\n",
        "    words = nltk.word_tokenize(text.lower())\n",
        "\n",
        "    # Remove stopwords and apply stemming\n",
        "    words = [stemmer.stem(word) for word in words if word not in stop_words]\n",
        "\n",
        "    # Add words to the corresponding corpus based on sentiment\n",
        "    if 'posit' in text:\n",
        "        positive_corpus.extend(words)\n",
        "    elif 'negat' in text:\n",
        "        negative_corpus.extend(words)\n",
        "\n",
        "    return ' '.join(words)\n",
        "\n",
        "df['Processed_Review'] = df['Review'].apply(preprocess_text)"
      ],
      "metadata": {
        "colab": {
          "base_uri": "https://localhost:8080/"
        },
        "id": "IACcSNlq4x64",
        "outputId": "98c54735-6b66-483b-deeb-9137f6723501"
      },
      "execution_count": 59,
      "outputs": [
        {
          "output_type": "stream",
          "name": "stderr",
          "text": [
            "[nltk_data] Downloading package stopwords to /root/nltk_data...\n",
            "[nltk_data]   Package stopwords is already up-to-date!\n"
          ]
        }
      ]
    },
    {
      "cell_type": "markdown",
      "source": [
        "## Data Splitting\n",
        "\n",
        "We split the preprocessed data into training and testing sets using scikit-learn's `train_test_split` function. Typically, 80% of the data is used for training, and 20% for testing."
      ],
      "metadata": {
        "id": "S8hvvMCZ5Koz"
      }
    },
    {
      "cell_type": "code",
      "source": [
        "# Split data into training and testing sets\n",
        "X = df['Processed_Review'].values\n",
        "y = df['Liked'].values\n",
        "\n",
        "X_train, X_test, y_train, y_test = train_test_split(X, y, test_size=0.2, random_state=42)"
      ],
      "metadata": {
        "id": "YUA1_-Rz5ONj"
      },
      "execution_count": 60,
      "outputs": []
    },
    {
      "cell_type": "markdown",
      "source": [
        "### 3. Vectorize Text Data\n",
        "\n",
        "We use TF-IDF (Term Frequency-Inverse Document Frequency) vectorization to convert the text data into numerical features. This step transforms the text into a format suitable for machine learning models. We use scikit-learn's `TfidfVectorizer` for this purpose."
      ],
      "metadata": {
        "id": "G52lMFU930jL"
      }
    },
    {
      "cell_type": "code",
      "source": [
        "# Vectorize the text data using TF-IDF\n",
        "tfidf_vectorizer = TfidfVectorizer(max_features=5000)\n",
        "X_train_tfidf = tfidf_vectorizer.fit_transform(X_train)\n",
        "X_test_tfidf = tfidf_vectorizer.transform(X_test)\n",
        "\n",
        "# Tokenize and pad the text data for LSTM\n",
        "tokenizer = Tokenizer(num_words=10000, oov_token=\"<OOV>\")\n",
        "tokenizer.fit_on_texts(X_train)\n",
        "X_train_sequences = tokenizer.texts_to_sequences(X_train)\n",
        "X_test_sequences = tokenizer.texts_to_sequences(X_test)\n",
        "max_sequence_length = max(len(seq) for seq in X_train_sequences)\n",
        "X_train_padded = pad_sequences(X_train_sequences, maxlen=max_sequence_length, padding='post')\n",
        "X_test_padded = pad_sequences(X_test_sequences, maxlen=max_sequence_length, padding='post')"
      ],
      "metadata": {
        "id": "qP07SbxW5fLE"
      },
      "execution_count": 61,
      "outputs": []
    },
    {
      "cell_type": "markdown",
      "source": [
        "## Model Building and Training\n",
        "\n",
        "### 4. Support Vector Machine (SVM)\n",
        "\n",
        "We build an SVM (Support Vector Machine) classifier using scikit-learn's `SVC` class with a linear kernel. We train the SVM model on the TF-IDF vectorized data and make predictions on both training and testing datasets.\n",
        "\n",
        "### 5. CatBoost Classifier\n",
        "\n",
        "We build a CatBoost classifier using the CatBoost library. The classifier is trained on the TF-IDF vectorized data, and we make predictions on both training and testing datasets.\n",
        "\n",
        "### 6. LSTM (Long Short-Term Memory) Neural Network\n",
        "\n",
        "We build an LSTM neural network using TensorFlow's Keras API for text classification. The LSTM model is trained on tokenized and padded text sequences. We specify an embedding layer, LSTM layer, and a dense output layer with sigmoid activation. The model is compiled and trained with binary cross-entropy loss and accuracy metrics."
      ],
      "metadata": {
        "id": "7TpqoCtv5rxO"
      }
    },
    {
      "cell_type": "code",
      "source": [
        "# Build and train the models\n",
        "# Model 1: Support Vector Machine (SVM)\n",
        "svm_classifier = SVC(kernel='linear', C=1.0, random_state=42)\n",
        "svm_classifier.fit(X_train_tfidf, y_train)\n",
        "svm_train_predictions = svm_classifier.predict(X_train_tfidf)\n",
        "svm_test_predictions = svm_classifier.predict(X_test_tfidf)\n",
        "\n",
        "# Model 2: CatBoost Classifier\n",
        "catboost_classifier = CatBoostClassifier(iterations=100, random_state=42, verbose=0)\n",
        "catboost_classifier.fit(X_train_tfidf, y_train)\n",
        "catboost_train_predictions = catboost_classifier.predict(X_train_tfidf)\n",
        "catboost_test_predictions = catboost_classifier.predict(X_test_tfidf)\n",
        "\n",
        "# Model 3: LSTM\n",
        "lstm_model = Sequential()\n",
        "lstm_model.add(Embedding(10000, 128, input_length=max_sequence_length))\n",
        "lstm_model.add(LSTM(64))\n",
        "lstm_model.add(Dense(1, activation='sigmoid'))\n",
        "lstm_model.compile(optimizer='adam', loss='binary_crossentropy', metrics=['accuracy'])\n",
        "lstm_model.fit(X_train_padded, y_train, epochs=5, batch_size=32)\n",
        "lstm_train_predictions = (lstm_model.predict(X_train_padded) > 0.5).astype(int)\n",
        "lstm_test_predictions = (lstm_model.predict(X_test_padded) > 0.5).astype(int)\n",
        "\n",
        "# Calculate and display the accuracies\n",
        "svm_train_accuracy = accuracy_score(y_train, svm_train_predictions)\n",
        "svm_test_accuracy = accuracy_score(y_test, svm_test_predictions)\n",
        "catboost_train_accuracy = accuracy_score(y_train, catboost_train_predictions)\n",
        "catboost_test_accuracy = accuracy_score(y_test, catboost_test_predictions)\n",
        "lstm_train_accuracy = accuracy_score(y_train, lstm_train_predictions)\n",
        "lstm_test_accuracy = accuracy_score(y_test, lstm_test_predictions)\n",
        "\n",
        "print(\"Training Accuracy:\")\n",
        "print(f\"SVM: {svm_train_accuracy:.4f}\")\n",
        "print(f\"CatBoost: {catboost_train_accuracy:.4f}\")\n",
        "print(f\"LSTM: {lstm_train_accuracy:.4f}\")\n",
        "print(\"\\nTesting Accuracy:\")\n",
        "print(f\"SVM: {svm_test_accuracy:.4f}\")\n",
        "print(f\"CatBoost: {catboost_test_accuracy:.4f}\")\n",
        "print(f\"LSTM: {lstm_test_accuracy:.4f}\")\n"
      ],
      "metadata": {
        "colab": {
          "base_uri": "https://localhost:8080/"
        },
        "id": "kPBb0cXn1c5u",
        "outputId": "4f5bde79-3c10-4020-f333-b2929e5a7c37"
      },
      "execution_count": 62,
      "outputs": [
        {
          "output_type": "stream",
          "name": "stdout",
          "text": [
            "Epoch 1/5\n",
            "25/25 [==============================] - 2s 16ms/step - loss: 0.6940 - accuracy: 0.5075\n",
            "Epoch 2/5\n",
            "25/25 [==============================] - 0s 16ms/step - loss: 0.6394 - accuracy: 0.6575\n",
            "Epoch 3/5\n",
            "25/25 [==============================] - 0s 17ms/step - loss: 0.3084 - accuracy: 0.8913\n",
            "Epoch 4/5\n",
            "25/25 [==============================] - 1s 20ms/step - loss: 0.1608 - accuracy: 0.9425\n",
            "Epoch 5/5\n",
            "25/25 [==============================] - 0s 20ms/step - loss: 0.0641 - accuracy: 0.9862\n",
            "25/25 [==============================] - 1s 5ms/step\n",
            "7/7 [==============================] - 1s 5ms/step\n",
            "Training Accuracy:\n",
            "SVM: 0.9600\n",
            "CatBoost: 0.8562\n",
            "LSTM: 0.9925\n",
            "\n",
            "Testing Accuracy:\n",
            "SVM: 0.7500\n",
            "CatBoost: 0.7050\n",
            "LSTM: 0.7350\n"
          ]
        }
      ]
    },
    {
      "cell_type": "markdown",
      "source": [
        "## Model Evaluation\n",
        "\n",
        "We calculate and display the training and testing accuracies for all three models: SVM, CatBoost, and LSTM. Accuracy measures the proportion of correctly classified samples.\n",
        "\n",
        "---\n",
        "\n",
        "This code provides a comprehensive example of how to perform sentiment analysis on restaurant reviews using different models and demonstrates text preprocessing, data splitting, vectorization, and model building steps.\n"
      ],
      "metadata": {
        "id": "v0yiOgBh4VIA"
      }
    },
    {
      "cell_type": "code",
      "source": [
        "# Calculate and display the F1 scores\n",
        "svm_f1 = f1_score(y_test, svm_test_predictions)\n",
        "catboost_f1 = f1_score(y_test, catboost_test_predictions)\n",
        "lstm_f1 = f1_score(y_test, lstm_test_predictions)\n",
        "\n",
        "print(\"\\nTesting F1 Score:\")\n",
        "print(f\"SVM: {svm_f1:.4f}\")\n",
        "print(f\"CatBoost: {catboost_f1:.4f}\")\n",
        "print(f\"LSTM: {lstm_f1:.4f}\")\n",
        "\n",
        "# Confusion Matrix Visualization\n",
        "def plot_confusion_matrix(y_true, y_pred, labels):\n",
        "    cm = confusion_matrix(y_true, y_pred, labels=labels)\n",
        "    plt.figure(figsize=(6, 6))\n",
        "    sns.heatmap(cm, annot=True, fmt='d', cmap='Blues', xticklabels=labels, yticklabels=labels)\n",
        "    plt.xlabel('Predicted')\n",
        "    plt.ylabel('Actual')\n",
        "    plt.title('Confusion Matrix')\n",
        "    plt.show()\n",
        "\n",
        "# Plot confusion matrices\n",
        "plot_confusion_matrix(y_test, svm_test_predictions, labels=[0, 1])\n",
        "plot_confusion_matrix(y_test, catboost_test_predictions, labels=[0, 1])\n",
        "plot_confusion_matrix(y_test, lstm_test_predictions, labels=[0, 1])"
      ],
      "metadata": {
        "colab": {
          "base_uri": "https://localhost:8080/",
          "height": 1000
        },
        "id": "B_6SC6Ey4W1P",
        "outputId": "2d44c341-7ee3-4cc3-e305-ab76afefcc3f"
      },
      "execution_count": 63,
      "outputs": [
        {
          "output_type": "stream",
          "name": "stdout",
          "text": [
            "\n",
            "Testing F1 Score:\n",
            "SVM: 0.7423\n",
            "CatBoost: 0.6590\n",
            "LSTM: 0.7337\n"
          ]
        },
        {
          "output_type": "display_data",
          "data": {
            "text/plain": [
              "<Figure size 600x600 with 2 Axes>"
            ],
            "image/png": "[encoded data removed]"
          },
          "metadata": {}
        },
        {
          "output_type": "display_data",
          "data": {
            "text/plain": [
              "<Figure size 600x600 with 2 Axes>"
            ],
            "image/png": "[encoded data removed]"
          },
          "metadata": {}
        },
        {
          "output_type": "display_data",
          "data": {
            "text/plain": [
              "<Figure size 600x600 with 2 Axes>"
            ],
            "image/png": "[encoded data removed]"
          },
          "metadata": {}
        }
      ]
    }
  ]
}